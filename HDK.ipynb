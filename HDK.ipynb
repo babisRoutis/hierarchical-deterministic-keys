{
  "nbformat": 4,
  "nbformat_minor": 0,
  "metadata": {
    "colab": {
      "provenance": [],
      "authorship_tag": "ABX9TyOipLavnnH++pb86Dt0BCFN",
      "include_colab_link": true
    },
    "kernelspec": {
      "name": "python3",
      "display_name": "Python 3"
    },
    "language_info": {
      "name": "python"
    }
  },
  "cells": [
    {
      "cell_type": "markdown",
      "metadata": {
        "id": "view-in-github",
        "colab_type": "text"
      },
      "source": [
        "<a href=\"https://colab.research.google.com/github/AltmannPeter/privacy-key-management/blob/main/HDK.ipynb\" target=\"_parent\"><img src=\"https://colab.research.google.com/assets/colab-badge.svg\" alt=\"Open In Colab\"/></a>"
      ]
    },
    {
      "cell_type": "markdown",
      "source": [
        "# Blinded Proof of Possession Keys for WSCD protected EUDIWs"
      ],
      "metadata": {
        "id": "15zq3mxABKUQ"
      }
    },
    {
      "cell_type": "markdown",
      "source": [
        "In brief:\n",
        "\n",
        "- Presentations will include a Proof of Possession key protected by the EUDIW Secure Cryptographic Environment (SCE)\n",
        "- To ensure privacy, the Proof of Possession key material must be unique per presented attestation.\n",
        "- Generating unique key pairs for every attestation is a key management problem\n",
        "- One possible solution is Hierarchical Deterministic Key Derivation, where child keys are generated from parent keys\n",
        "- Each child key is appears unrelated to the parent key or to another child key\n",
        "- Each child key is also a private and public key and requires the same SCE as the parent key\n",
        "- Hardened derivation uses the private key to derive child keys\n",
        "- Regular derivation uses the public key to derive child keys\n",
        "- Derivation has both depth (level) and width (index)\n",
        "\n",
        "Existing alternatives\n",
        "\n",
        "- [BIP32](https://en.bitcoin.it/wiki/BIP_0032) used in Bitcoin\n",
        "- [SLIP-0010](https://slips.readthedocs.io/en/latest/slip-0010/) used in Ethereum\n",
        "- [ARKG](https://datatracker.ietf.org/doc/draft-bradleylundberg-cfrg-arkg/) by  Yubico\n",
        "- [HDK](https://sander.github.io/hierarchical-deterministic-keys/feat/bs-restructure/draft-dijkhuis-cfrg-hdkeys.html#name-introduction) a collaboration with Sander\n",
        "- PoA by Eric should be mentioned too\n",
        "\n",
        "The ARKG and HDK approach are both designed with the EUDIW in mind."
      ],
      "metadata": {
        "id": "lY3t4PPTBTZl"
      }
    },
    {
      "cell_type": "markdown",
      "source": [
        "## Hierarchical Deterministic Key derivation for EUDIW"
      ],
      "metadata": {
        "id": "IFbw182QHAaM"
      }
    },
    {
      "cell_type": "markdown",
      "source": [
        "### Introduction"
      ],
      "metadata": {
        "id": "wRK-bobyJCIU"
      }
    },
    {
      "cell_type": "markdown",
      "source": [
        "With HDK, a large set of seemingly unrelated keys can be bound to an SCE that protects a single private key. Each HDK is deterministically defined by a path, optionally alternated by key handles provided by another party, e.g., an Issuer. There are several instantiations of HDK, of which ECDH and ECSDSA are supported by existing SCEs.\n",
        "\n",
        "The approach builds on / aligns with the following specifications:\n",
        "\n",
        "- [RFC 9180](https://datatracker.ietf.org/doc/rfc9180/) for the KEM\n",
        "- [RFC 9380](https://datatracker.ietf.org/doc/rfc9380/) used in key blinding\n",
        "- [KBSS](https://datatracker.ietf.org/doc/draft-irtf-cfrg-signature-key-blinding/) details derivation approaches\n",
        "- [ARKG](https://datatracker.ietf.org/doc/draft-bradleylundberg-cfrg-arkg/) related key derivation specification that HDK extends\n",
        "\n",
        "Two HDK derivation approaches are possible, local and remote. Local allows the User to derive keys on their local device. Remote allows the User to derive keys from a remotely generated (e.g., Issuer) key handle.\n",
        "\n",
        "Each HDK instantiation builds on the following:\n",
        "\n",
        "1. A Key Encapsulation Mechanism (KEM)\n",
        "2. A Key blinding (KB) scheme\n",
        "3. A derivation approach that can be either additive (ADD) or multiplicative (MUL).\n",
        "\n",
        "In our examples below we will use:\n",
        "\n",
        "- DHKEM(P-256, HKDF-SHA256)\n",
        "  - Nsecret 32\n",
        "  - Nenc 65\n",
        "  - Npk 65\n",
        "  - Nsk 32"
      ],
      "metadata": {
        "id": "Ba6JjRpCHEU-"
      }
    },
    {
      "cell_type": "markdown",
      "source": [
        "### Building blocks"
      ],
      "metadata": {
        "id": "wGeEVCVQKyUJ"
      }
    },
    {
      "cell_type": "markdown",
      "source": [
        "#### RFC 9180 parts"
      ],
      "metadata": {
        "id": "_Hp6y7PmTvlA"
      }
    },
    {
      "cell_type": "markdown",
      "source": [
        "The RFC 9180 relevant parts are those that detail the Key Encapsulation Mechanism (KEM). The KEM allows two parties to generate a shared secret and to transmit it securely. This shared secret will be used to enable two parties, the Issuer and the User, to derive blinded keys in such a way that the derived keys seem unrelated to anyone who does not know the shared secret.\n",
        "\n",
        "The KEM used in key derivation is from [RFC 9180 HPKE](https://www.rfc-editor.org/rfc/rfc9180.html), more specifically DH-KEM as detailed in section [4.1](https://www.rfc-editor.org/rfc/rfc9180.html#section-4.1). The DH-KEM relies on a number of primitives:\n",
        "\n",
        "* Both `GenerateKeyPair()` and `DeriveKeyPair(ikm)` can output a private public key pair `(sk, pk)`\n",
        "* `Encap(pkR)` and `Decap(enc, skR)` uses receiver public key `pkR` to create an encapsulated shared secret `enc` that can be decapsulated using the receiver private key `skR`.\n",
        "* `SerializePublicKey(pkX)` and `DeserializePublicKey(pkXm)` performs the conversions between uncompressed elliptic curve points and octet strings according to [SECG](https://secg.org/sec1-v2.pdf)."
      ],
      "metadata": {
        "id": "zYDqmzDT0TZ1"
      }
    },
    {
      "cell_type": "code",
      "source": [
        "%%capture\n",
        "!pip install ecpy"
      ],
      "metadata": {
        "id": "gqU_S50ISpPv"
      },
      "execution_count": 3,
      "outputs": []
    },
    {
      "cell_type": "code",
      "source": [
        "from cryptography.hazmat.primitives             import hashes\n",
        "from cryptography.hazmat.primitives.asymmetric  import ec\n",
        "from cryptography.hazmat.primitives.kdf.hkdf    import HKDF\n",
        "from cryptography.hazmat.primitives             import serialization\n",
        "\n",
        "import hmac\n",
        "import secrets\n",
        "from ecpy.curves                                import Curve, Point\n",
        "from math                                       import ceil\n",
        "import types\n",
        "from dataclasses                                import dataclass"
      ],
      "metadata": {
        "id": "rM6yKToLLUx8"
      },
      "execution_count": 4,
      "outputs": []
    },
    {
      "cell_type": "code",
      "source": [
        "## Shortened functions\n",
        "SEC1 = serialization.Encoding.X962\n",
        "UCOMP = serialization.PublicFormat.UncompressedPoint\n",
        "COMP = serialization.PublicFormat.CompressedPoint\n",
        "\n",
        "## Static values for DHKEM(P-256, HKDF-SHA256)\n",
        "Nsecret = 32\n",
        "Nsk = 32\n",
        "crv = Curve.get_curve('secp256r1')\n",
        "G = crv.generator\n",
        "salt = b\"\"\n",
        "kem_id = 0x0010\n",
        "suite_id = b\"KEM\" + kem_id.to_bytes(2)\n",
        "bitmask = 0xFF\n",
        "\n",
        "\n",
        "## Test vector for DHKEM(P-256, HKDF-SHA256)\n",
        "mode = 0\n",
        "kem_id = 16\n",
        "kdf_id = 1\n",
        "aead_id = 1\n",
        "info = 0x4f6465206f6e2061204772656369616e2055726e\n",
        "ikmE = 0x4270e54ffd08d79d5928020af4686d8f6b7d35dbe470265f1f5aa22816ce860e\n",
        "pkEm = 0x04a92719c6195d5085104f469a8b9814d5838ff72b60501e2c4466e5e67b325ac98536d7b61a1af4b78e5b7f951c0900be863c403ce65c9bfcb9382657222d18c4\n",
        "skEm = 0x4995788ef4b9d6132b249ce59a77281493eb39af373d236a1fe415cb0c2d7beb\n",
        "ikmR = 0x668b37171f1072f3cf12ea8a236a45df23fc13b82af3609ad1e354f6ef817550\n",
        "pkRm = 0x04fe8c19ce0905191ebc298a9245792531f26f0cece2460639e8bc39cb7f706a826a779b4cf969b8a0e539c7f62fb3d30ad6aa8f80e30f1d128aafd68a2ce72ea0\n",
        "skRm = 0xf3ce7fdae57e1a310d87f1ebbde6f328be0a99cdbcadf4d6589cf29de4b8ffd2\n",
        "ss = 0xc0d26aeab536609a572b07695d933b589dcf363ff9d93c93adea537aeabb8cb8"
      ],
      "metadata": {
        "id": "X2y37x3Eh326"
      },
      "execution_count": 5,
      "outputs": []
    },
    {
      "cell_type": "code",
      "source": [
        "## Functions for RFC 9180\n",
        "def ECDH(a, B):\n",
        "  return a.exchange(ec.ECDH(), B)\n",
        "\n",
        "def ExtractAndExpand(ikm, label_extract, label_expand, info, L):\n",
        "  labeled_ikm = b\"HPKE-v1\" + suite_id + label_extract + ikm\n",
        "  labeled_info = L.to_bytes(2) + b\"HPKE-v1\" + suite_id + label_expand + info\n",
        "  return HKDF(\n",
        "        algorithm=hashes.SHA256(),\n",
        "        length=L,\n",
        "        salt=salt,\n",
        "        info=labeled_info\n",
        "        ).derive(labeled_ikm)\n",
        "\n",
        "def DeriveKeyPair(ikm):\n",
        "  label_extract = b\"dkp_prk\"\n",
        "  label_expand = b\"candidate\"\n",
        "  sk = 0\n",
        "  counter = 0\n",
        "\n",
        "  while sk == 0 or sk >= crv.order:\n",
        "    if counter > 255:\n",
        "      raise DeriveKeyPairError\n",
        "    sk = bytearray(ExtractAndExpand(ikm, label_extract, label_expand, counter.to_bytes(1), Nsk))\n",
        "    sk[0] &= bitmask\n",
        "    sk = int.from_bytes(sk)\n",
        "    counter += 1\n",
        "\n",
        "  sk = ec.derive_private_key(sk, ec.SECP256R1())\n",
        "  return sk, sk.public_key()"
      ],
      "metadata": {
        "id": "_rOwcoBTlfcB"
      },
      "execution_count": 6,
      "outputs": []
    },
    {
      "cell_type": "code",
      "source": [
        "## Setup based on above\n",
        "skE, pkE = DeriveKeyPair(ikmE.to_bytes((ikmR.bit_length()+7)//8))\n",
        "skR, pkR = DeriveKeyPair(ikmR.to_bytes((ikmR.bit_length()+7)//8))\n",
        "\n",
        "# Compute shared_secret\n",
        "dh = ECDH(skE, pkR)\n",
        "kem_context = pkE.public_bytes(SEC1, UCOMP) + pkR.public_bytes(SEC1, UCOMP)\n",
        "shared_secret = ExtractAndExpand(dh,  b\"eae_prk\", b\"shared_secret\", kem_context, Nsecret)\n",
        "assert (shared_secret.hex() == hex(ss)[2:])"
      ],
      "metadata": {
        "id": "RDAAHBKPjrlc"
      },
      "execution_count": 7,
      "outputs": []
    },
    {
      "cell_type": "markdown",
      "source": [
        "#### RFC 9380 parts"
      ],
      "metadata": {
        "id": "B2url7gFRbAf"
      }
    },
    {
      "cell_type": "markdown",
      "source": [
        "With the shared secret generated from the KEM, we now need a standardized way to generate a field element that in turn can be used to derive child keys for any parent key. The key derivation relies on the [hash to field function](https://www.rfc-editor.org/rfc/rfc9380.html#name-hash_to_field-implementatio) from RFC 9380."
      ],
      "metadata": {
        "id": "fGt2LydDSzAy"
      }
    },
    {
      "cell_type": "code",
      "source": [
        "## Suite parameters\n",
        "@dataclass(frozen=True)\n",
        "class CurveParamsWeierstrass:\n",
        "    a: int\n",
        "    b: int\n",
        "    n: int\n",
        "    p: int\n",
        "    m: int\n",
        "    k: int\n",
        "    H: types.ModuleType\n",
        "    L: int\n",
        "    Z: int\n",
        "    h_eff: int\n",
        "    g: tuple[int, int]\n",
        "    dst: str\n",
        "    curve: types.ModuleType\n",
        "\n",
        "    @property\n",
        "    def h(self) -> hashes.Hash:\n",
        "      return hashes.Hash(hashes.SHA256())\n",
        "\n",
        "SECP256R1 = CurveParamsWeierstrass(\n",
        "    a=-3,\n",
        "    b=0x5AC635D8AA3A93E7B3EBBD55769886BC651D06B0CC53B0F63BCE3C3E27D2604B,\n",
        "    n=0xFFFFFFFF00000000FFFFFFFFFFFFFFFFBCE6FAADA7179E84F3B9CAC2FC632551,  # order\n",
        "    p=0xFFFFFFFF00000001000000000000000000000000FFFFFFFFFFFFFFFFFFFFFFFF,\n",
        "    m=1,\n",
        "    k=128,\n",
        "    H=hashes.SHA256,\n",
        "    L=48,\n",
        "    Z=-10,\n",
        "    h_eff=1,\n",
        "    g=(\n",
        "        0x6B17D1F2E12C4247F8BCE6E563A440F277037D812DEB33A0F4A13945D898C296,\n",
        "        0x4FE342E2FE1A7F9B8EE7EB4A7C0F9E162BCE33576B315ECECBB6406837BF51F5,\n",
        "    ),\n",
        "    dst=\"HashToGroup-\",\n",
        "    curve=ec.SECP256R1(),\n",
        ")\n",
        "\n",
        "# # Test vectors\n",
        "# name    = expand_message_xmd\n",
        "# DST     = \"QUUX-V01-CS02-with-expander-SHA256-128\"\n",
        "# hash    = SHA256\n",
        "# k       = 128\n",
        "# len_in_bytes = 0x20\n",
        "\n",
        "# msg     = \"\"\n",
        "# uniform_bytes = \"68a985b87eb6b46952128911f2a4412bbc302a9d759667f87f7a21d803f07235\"\n",
        "\n",
        "# msg     = \"abc\"\n",
        "# uniform_bytes = \"d8ccab23b5985ccea865c6c97b6e5b8350e794e603b4b97902f53a8a0d605615\"\n",
        "\n",
        "suite = SECP256R1"
      ],
      "metadata": {
        "id": "DcGNqVOyRapO"
      },
      "execution_count": 8,
      "outputs": []
    },
    {
      "cell_type": "code",
      "source": [
        "def strxor(str1, str2):\n",
        "    str1 = int(str1.hex(), 16)\n",
        "    str2 = int(str2.hex(), 16)\n",
        "    x = hex(str1 ^ str2)[2:]\n",
        "    return bytes.fromhex(x)\n",
        "\n",
        "def expand_message_xmd(msg, DST, len_in_bytes):\n",
        "    \"\"\"\n",
        "    https://www.rfc-editor.org/rfc/rfc9380.html#name-expand_message_xmdsha-256\n",
        "    \"\"\"\n",
        "    b_in_bytes = suite.H.digest_size\n",
        "    s_in_bytes = suite.H.block_size\n",
        "    ell = ceil(len_in_bytes / b_in_bytes)\n",
        "    if any([ell > 255, len_in_bytes > 65535, len(DST) > 255]):\n",
        "        raise ValueError(\"Input values out of range.\")\n",
        "    DST_len_I2OSP = int.to_bytes(len(DST), 1)\n",
        "    DST_prime = DST + DST_len_I2OSP\n",
        "    Z_pad = b\"\\x00\" * s_in_bytes\n",
        "    l_i_b_str = int.to_bytes(len_in_bytes, 2)\n",
        "    msg_prime = Z_pad + msg + l_i_b_str + int.to_bytes(0, 1) + DST_prime\n",
        "\n",
        "    b_0 = suite.h\n",
        "    b_0.update(msg_prime)\n",
        "    b_0 = b_0.finalize()\n",
        "\n",
        "    b_1 = suite.h\n",
        "    b_1.update(b_0 + int.to_bytes(1, 1) + DST_prime)\n",
        "    b_1 = b_1.finalize()\n",
        "\n",
        "    b = [b_0, b_1]\n",
        "    for i in range(2, ell + 1):\n",
        "        hash_input_xor = strxor(b[0], b[i - 1])\n",
        "        str_xor = suite.h\n",
        "        str_xor.update(hash_input_xor + int.to_bytes(i, 1) + DST_prime)\n",
        "        b.append(str_xor.finalize())\n",
        "\n",
        "    uniform_bytes = b[1]\n",
        "    for i in b[2:]:\n",
        "        uniform_bytes += i\n",
        "\n",
        "    return uniform_bytes[:len_in_bytes]"
      ],
      "metadata": {
        "id": "fKY3CCpYQx4N"
      },
      "execution_count": 9,
      "outputs": []
    },
    {
      "cell_type": "code",
      "source": [
        "assert (expand_message_xmd(b\"\", b\"QUUX-V01-CS02-with-expander-SHA256-128\", 0x20).hex() == \"68a985b87eb6b46952128911f2a4412bbc302a9d759667f87f7a21d803f07235\")\n",
        "assert (expand_message_xmd(b\"abc\", b\"QUUX-V01-CS02-with-expander-SHA256-128\", 0x20).hex() == \"d8ccab23b5985ccea865c6c97b6e5b8350e794e603b4b97902f53a8a0d605615\")"
      ],
      "metadata": {
        "id": "AsdiRohaXA-D"
      },
      "execution_count": 10,
      "outputs": []
    },
    {
      "cell_type": "code",
      "source": [
        "def hash_to_field(msg, count):\n",
        "    \"\"\"\n",
        "    https://www.rfc-editor.org/rfc/rfc9380.html#name-p256_xmdsha-256_sswu_ro_\n",
        "    \"\"\"\n",
        "    m, L, p = suite.m, suite.L, suite.p\n",
        "\n",
        "    len_in_bytes = count * m * L\n",
        "    uniform_bytes = expand_message_xmd(\n",
        "        msg=msg,\n",
        "        DST=b\"QUUX-V01-CS02-with-P256_XMD:SHA-256_SSWU_RO_\",\n",
        "        len_in_bytes=len_in_bytes,\n",
        "    )\n",
        "\n",
        "    u = []\n",
        "    for i in range(count):\n",
        "        for j in range(m):\n",
        "            elm_offset = L * (j + i * m)\n",
        "            tv = uniform_bytes[elm_offset : elm_offset + L]\n",
        "            e_j = int.from_bytes(tv) % p\n",
        "            u.append(e_j)\n",
        "    return u"
      ],
      "metadata": {
        "id": "Km8lKjQ8Uvr4"
      },
      "execution_count": 11,
      "outputs": []
    },
    {
      "cell_type": "code",
      "source": [
        "assert (hash_to_field(b\"\", 2)[0] == 0xad5342c66a6dd0ff080df1da0ea1c04b96e0330dd89406465eeba11582515009)\n",
        "assert (hash_to_field(b\"\", 2)[1] == 0x8c0f1d43204bd6f6ea70ae8013070a1518b43873bcd850aafa0a9e220e2eea5a)"
      ],
      "metadata": {
        "id": "Twpl3ktFUwLN"
      },
      "execution_count": 12,
      "outputs": []
    },
    {
      "cell_type": "markdown",
      "source": [
        "#### Local Derivation"
      ],
      "metadata": {
        "id": "My6seRLiOeW0"
      }
    },
    {
      "cell_type": "markdown",
      "source": [
        "With our derived field element from a common shared secret, we can now do key derivation. A User can derive keys locally using Local Derivation as detailed below."
      ],
      "metadata": {
        "id": "mPiDKIT_UiBz"
      }
    },
    {
      "cell_type": "code",
      "source": [
        "## X is the point corresponding to pkX\n",
        "E = Point(pkE.public_numbers().x, pkE.public_numbers().y, crv)\n",
        "seed = bytes.fromhex(hex(ikmE)[2:])"
      ],
      "metadata": {
        "id": "qgGmtGcBOIrE"
      },
      "execution_count": 13,
      "outputs": []
    },
    {
      "cell_type": "code",
      "source": [
        "def encoded_point_to_key(Em):\n",
        "  return point_to_key(crv.decode_point(Em))\n",
        "\n",
        "def point_to_key(E):\n",
        "  return ec.EllipticCurvePublicNumbers(E.x, E.y, SECP256R1.curve)\n",
        "\n",
        "## Ignore that camel case is used from here on, I will fix it later\n",
        "def CreateContext(pk, index):\n",
        "  return pk.public_bytes(SEC1, UCOMP) + index.to_bytes(4)\n",
        "\n",
        "def DeriveSalt(salt, ctx):\n",
        "  derived_salt = suite.h\n",
        "  derived_salt.update(salt + ctx)\n",
        "  return derived_salt.finalize()\n",
        "\n",
        "def DeriveBlindKey(ikm):\n",
        "  bk_scalar = hash_to_field(ikm, 1)[0]\n",
        "  l = (bk_scalar.bit_length() + 7) // 8\n",
        "  return bk_scalar.to_bytes(l)\n",
        "\n",
        "def DeriveBlindingFactor(bk, ctx):\n",
        "  msg = bk + b'\\x00' + ctx\n",
        "  return hash_to_field(msg, 1)[0]\n",
        "\n",
        "def DeriveBlindPublicKey(pk, bf, mode):\n",
        "  P = Point(pk.public_numbers().x, pk.public_numbers().y, crv)\n",
        "  BP = P + bf * G if mode == \"ADD\" else (P * bf if mode == \"MUL\" else None)\n",
        "  return point_to_key(BP)\n",
        "\n",
        "def Combine(s_0, s_1, mode):\n",
        "  return (s_0 + s_1) % crv.order if mode == \"ADD\" else ((s_0 * s_1) % crv.order if mode == \"MUL\" else None)\n",
        "\n",
        "def HDK(pk, salt, index, mode, bf=None, sk=None):\n",
        "  ctx = CreateContext(pk, index)\n",
        "  bk = DeriveBlindKey(salt)\n",
        "  bf_0 = DeriveBlindingFactor(bk, ctx)\n",
        "\n",
        "  salt_b = DeriveSalt(salt, ctx)\n",
        "  pk_b = DeriveBlindPublicKey(pk, bf_0, mode)\n",
        "\n",
        "  return [pk_b, salt_b]"
      ],
      "metadata": {
        "id": "D4dbuO-wPWDM"
      },
      "execution_count": 14,
      "outputs": []
    },
    {
      "cell_type": "code",
      "source": [
        "print(\"Local additive key derivation in compressed form for pkE index 0: \")\n",
        "HDK_ADD_0_0 = HDK(pk=pkE, salt=seed, index=0, mode=\"ADD\")[0].public_key().public_bytes(SEC1, COMP)\n",
        "print(HDK_ADD_0_0.hex())\n",
        "\n",
        "print(\"\\nLocal additive key derivation in compressed form for pkE index 1: \")\n",
        "HDK_ADD_0_1 = HDK(pk=pkE, salt=seed, index=1, mode=\"ADD\")[0].public_key().public_bytes(SEC1, COMP)\n",
        "print(HDK_ADD_0_1.hex())"
      ],
      "metadata": {
        "colab": {
          "base_uri": "https://localhost:8080/"
        },
        "id": "UrFtMnOhToah",
        "outputId": "fd75a14d-77d5-4087-f1e9-2119d7ceb2f7"
      },
      "execution_count": 15,
      "outputs": [
        {
          "output_type": "stream",
          "name": "stdout",
          "text": [
            "Local additive key derivation in compressed form for pkE index 0: \n",
            "03f02b710bd856c813d4308b3e676bba0721916b87625e396aa3e8b456c90881e9\n",
            "\n",
            "Local additive key derivation in compressed form for pkE index 1: \n",
            "026fb0592172aefe8d7c189ba05bd5904ade835cb88137bfd850e3d2b0bae51df8\n"
          ]
        }
      ]
    },
    {
      "cell_type": "code",
      "source": [
        "print(\"Local multiplicative key derivation in compressed form for pkE index 0: \")\n",
        "HDK_MUL_0_0 = HDK(pk=pkE, salt=seed, index=0, mode=\"MUL\")[0].public_key().public_bytes(SEC1, COMP)\n",
        "print(HDK_MUL_0_0.hex())\n",
        "\n",
        "print(\"\\nLocal multiplicative key derivation in compressed form for pkE index 1: \")\n",
        "HDK_MUL_0_1 = HDK(pk=pkE, salt=seed, index=1, mode=\"MUL\")[0].public_key().public_bytes(SEC1, COMP)\n",
        "print(HDK_MUL_0_1.hex())"
      ],
      "metadata": {
        "colab": {
          "base_uri": "https://localhost:8080/"
        },
        "id": "ZHTZhWPsfxWF",
        "outputId": "8349ca02-fb42-4aeb-acad-2210f5093a63"
      },
      "execution_count": 16,
      "outputs": [
        {
          "output_type": "stream",
          "name": "stdout",
          "text": [
            "Local multiplicative key derivation in compressed form for pkE index 0: \n",
            "0308708c34ce059a6bfaeb838f70bec0c8a90cfb388eb5654e7a09addf6e2e7fb5\n",
            "\n",
            "Local multiplicative key derivation in compressed form for pkE index 1: \n",
            "0385ba7b098f407481e9d4ee0af51eaf2f1760d1160ac31ae675b0eff975a419f1\n"
          ]
        }
      ]
    },
    {
      "cell_type": "code",
      "source": [],
      "metadata": {
        "id": "txgNcqYuzBLI"
      },
      "execution_count": 16,
      "outputs": []
    }
  ]
}